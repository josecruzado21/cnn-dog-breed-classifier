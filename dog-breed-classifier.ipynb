{
 "cells": [
  {
   "cell_type": "markdown",
   "id": "forty-theater",
   "metadata": {},
   "source": [
    "# Dog Breed Classifier"
   ]
  },
  {
   "cell_type": "code",
   "execution_count": 12,
   "id": "charitable-information",
   "metadata": {},
   "outputs": [],
   "source": [
    "import pandas as pd\n",
    "import numpy as np\n",
    "#glob allows to recursively retrieve files that match a specified petter.\n",
    "#The reason we use glob here is to obtain all the files inside the folders in each route\n",
    "from glob import glob"
   ]
  },
  {
   "cell_type": "markdown",
   "id": "ecological-accent",
   "metadata": {},
   "source": [
    "## The dataset"
   ]
  },
  {
   "cell_type": "markdown",
   "id": "employed-sampling",
   "metadata": {},
   "source": [
    "We have 8,351 dog images and 5,749 human images. \n",
    "\n",
    "The cell below uses the glob command to find all the images inside the folders obtained after decompressing the ZIP files. The file names are stored in two lists, ```dog_images``` and ```people_images```."
   ]
  },
  {
   "cell_type": "code",
   "execution_count": 24,
   "id": "absolute-chance",
   "metadata": {},
   "outputs": [
    {
     "name": "stdout",
     "output_type": "stream",
     "text": [
      "We have 8,351 dog images in total (train+dev+test)\n",
      "We have 5,749 human images in total (train+dev+test)\n"
     ]
    }
   ],
   "source": [
    "dog_images=glob(\"images\\dogs\\*\\*\\*\\*\")\n",
    "people_images=glob(\"images\\people\\*\\*\")\n",
    "\n",
    "print(\"We have {:,} dog images in total (train+dev+test)\".format(len(dog_images)))\n",
    "print(\"We have {:,} human images in total (train+dev+test)\".format(len(people_images)))"
   ]
  },
  {
   "cell_type": "markdown",
   "id": "virgin-translator",
   "metadata": {},
   "source": [
    "## Human detection"
   ]
  },
  {
   "cell_type": "markdown",
   "id": "alleged-attack",
   "metadata": {},
   "source": [
    "The **OpenCV** library will be used to detect human faces. This is an open-source library widely used for computer vision and image processing.\n",
    "\n",
    "The algorithm to be implemented is a Haar feature-based cascade classifier. This model was first proposed in 2001 by Viola and Jones in their [research paper](https://www.cs.cmu.edu/~efros/courses/LBMV07/Papers/viola-cvpr-01.pdf) \"Rapid Object Detection using a Boosted Cascade of Simple features\". This is a very efficient and highly accurate algorithm, extensively used even in the current deep learning era.\n",
    "\n",
    "In simple, the algorithm uses what is known as Haar features to detect attributes in the image. These features have a similar structure to kernel matrices on CNN, with the difference that the values inside the matrix are assigned a priori (not estimated) and take the values between 0 (white) and 1 (black).\n",
    "\n",
    "In the publication, the authors describe the 3 main contributions of their work:\n",
    "* Integral image.\n",
    "* Feature selection with AdaBoost.\n",
    "* Combining complex classifiers in a cascade structure.\n",
    "\n",
    "The three findings listed above contribute to the efficiency and high detection rate achieved my the technique.\n",
    "\n",
    "---\n",
    "\n",
    "OpenCV already has some pretrained detectors that can be found in the following [link](https://github.com/opencv/opencv/tree/master/data/haarcascades). Some of the trained classifiers include eye-detection, smile-detection, russiand plate number, and more.\n",
    "\n",
    "For the purpose of detection faces, I will use ```haarcascade_frontalface_alt.xml``` "
   ]
  },
  {
   "cell_type": "code",
   "execution_count": 1,
   "id": "mineral-samoa",
   "metadata": {},
   "outputs": [],
   "source": [
    "#import OpenCV\n",
    "import cv2"
   ]
  },
  {
   "cell_type": "code",
   "execution_count": 2,
   "id": "cordless-toddler",
   "metadata": {},
   "outputs": [
    {
     "data": {
      "text/plain": [
       "<module 'cv2' from 'C:\\\\Users\\\\USUARIO\\\\anaconda3\\\\lib\\\\site-packages\\\\cv2.cp38-win_amd64.pyd'>"
      ]
     },
     "execution_count": 2,
     "metadata": {},
     "output_type": "execute_result"
    }
   ],
   "source": [
    "cv2"
   ]
  },
  {
   "cell_type": "code",
   "execution_count": null,
   "id": "communist-wheat",
   "metadata": {},
   "outputs": [],
   "source": []
  }
 ],
 "metadata": {
  "kernelspec": {
   "display_name": "Python 3",
   "language": "python",
   "name": "python3"
  },
  "language_info": {
   "codemirror_mode": {
    "name": "ipython",
    "version": 3
   },
   "file_extension": ".py",
   "mimetype": "text/x-python",
   "name": "python",
   "nbconvert_exporter": "python",
   "pygments_lexer": "ipython3",
   "version": "3.8.5"
  }
 },
 "nbformat": 4,
 "nbformat_minor": 5
}
