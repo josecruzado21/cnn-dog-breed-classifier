{
 "cells": [
  {
   "cell_type": "markdown",
   "id": "forty-theater",
   "metadata": {},
   "source": [
    "# Dog Breed Classifier"
   ]
  },
  {
   "cell_type": "code",
   "execution_count": 12,
   "id": "charitable-information",
   "metadata": {},
   "outputs": [],
   "source": [
    "import pandas as pd\n",
    "import numpy as np\n",
    "#glob allows to recursively retrieve files that match a specified petter.\n",
    "#The reason we use glob here is to obtain all the files inside the folders in each route\n",
    "from glob import glob"
   ]
  },
  {
   "cell_type": "markdown",
   "id": "ecological-accent",
   "metadata": {},
   "source": [
    "## The dataset"
   ]
  },
  {
   "cell_type": "markdown",
   "id": "employed-sampling",
   "metadata": {},
   "source": [
    "We have 8,351 dog images and 5,749 human images. \n",
    "\n",
    "The cell below uses the glob command to find all the images inside the folders obtained after decompressing the ZIP files. The file names are stored in two lists, ```dog_images``` and ```people_images```."
   ]
  },
  {
   "cell_type": "code",
   "execution_count": 24,
   "id": "absolute-chance",
   "metadata": {},
   "outputs": [
    {
     "name": "stdout",
     "output_type": "stream",
     "text": [
      "We have 8,351 dog images in total (train+dev+test)\n",
      "We have 5,749 human images in total (train+dev+test)\n"
     ]
    }
   ],
   "source": [
    "dog_images=glob(\"images\\dogs\\*\\*\\*\\*\")\n",
    "people_images=glob(\"images\\people\\*\\*\")\n",
    "\n",
    "print(\"We have {:,} dog images in total (train+dev+test)\".format(len(dog_images)))\n",
    "print(\"We have {:,} human images in total (train+dev+test)\".format(len(people_images)))"
   ]
  },
  {
   "cell_type": "markdown",
   "id": "virgin-translator",
   "metadata": {},
   "source": [
    "## Human detection"
   ]
  },
  {
   "cell_type": "markdown",
   "id": "alleged-attack",
   "metadata": {},
   "source": [
    "The **OpenCV** library will be used to detect humans. This is an open-source library widely used for computer vision and image processing."
   ]
  },
  {
   "cell_type": "code",
   "execution_count": null,
   "id": "closed-indianapolis",
   "metadata": {},
   "outputs": [],
   "source": []
  }
 ],
 "metadata": {
  "kernelspec": {
   "display_name": "Python 3",
   "language": "python",
   "name": "python3"
  },
  "language_info": {
   "codemirror_mode": {
    "name": "ipython",
    "version": 3
   },
   "file_extension": ".py",
   "mimetype": "text/x-python",
   "name": "python",
   "nbconvert_exporter": "python",
   "pygments_lexer": "ipython3",
   "version": "3.8.5"
  }
 },
 "nbformat": 4,
 "nbformat_minor": 5
}
